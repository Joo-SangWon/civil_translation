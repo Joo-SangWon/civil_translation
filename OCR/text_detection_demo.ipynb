{
 "cells": [
  {
   "cell_type": "code",
   "execution_count": 1,
   "metadata": {},
   "outputs": [],
   "source": [
    "import cv2 as cv\n",
    "import numpy as np"
   ]
  },
  {
   "cell_type": "code",
   "execution_count": null,
   "metadata": {},
   "outputs": [],
   "source": [
    "# # 4버전이랑 3버전이랑 코드가 다름\n",
    "# OpenCV 4.x\n",
    "# contours, hierarchy = cv.findContours(img_binary, cv.RETR_LIST, cv.CHAIN_APPROX_SIMPLE)\n",
    "# OpenCV 3.x\n",
    "# _, contours, hierarchy = cv.findContours(img_binary, cv.RETR_LIST, cv.CHAIN_APPROX_SIMPLE)"
   ]
  },
  {
   "cell_type": "code",
   "execution_count": null,
   "metadata": {},
   "outputs": [],
   "source": [
    "# 이미지 불러오기 \n",
    "img_color = cv.imread('test.png')\n",
    "\n",
    "# 이미지 흑백전환\n",
    "img_gray = cv.cvtColor(img_color, cv.COLOR_BGR2GRAY)\n",
    "\n",
    "# 임계점 설정(threshold)\n",
    "ret, img_binary = cv.threshold(img_gray, 127, 255, 0)\n",
    "\n",
    "# Contours 추출\n",
    "contours, hierarchy = cv.findContours(img_binary, cv.RETR_LIST, cv.CHAIN_APPROX_SIMPLE)\n",
    "\n",
    "# Contours 박스 그리기\n",
    "for cnt in contours:\n",
    "    cv.drawContours(img_color, [cnt], 0, (255, 0, 0), 3)  # blue\n",
    "\n",
    "# 이미지 보여주기\n",
    "cv.imshow(\"result1\", img_color)\n",
    "\n",
    "# 이미지 아웃\n",
    "cv.waitKey(0)\n",
    "\n",
    "# # ?? 이거 뭔지 모르겠다\n",
    "for cnt in contours:\n",
    "\n",
    "    area = cv.contourArea(cnt)\n",
    "\n",
    "    print(area)\n",
    "\n",
    "\n",
    "cv.imshow(\"result2\", img_color)\n",
    "\n",
    "cv.waitKey(0)"
   ]
  },
  {
   "cell_type": "code",
   "execution_count": null,
   "metadata": {},
   "outputs": [],
   "source": [
    "# 연습\n",
    "img_color = cv.imread('square.png')\n",
    "img_gray = cv.cvtColor(img_color, cv.COLOR_BGR2GRAY)\n",
    "ret, img_binary = cv.threshold(img_gray, 127, 255, 0)\n",
    "contours, hierarchy = cv.findContours(img_binary, cv.RETR_LIST, cv.CHAIN_APPROX_SIMPLE)\n",
    "\n",
    "\n",
    "for cnt in contours:\n",
    "    cv.drawContours(img_color, [cnt], 0, (255, 0, 0), 3)  # blue\n",
    "\n",
    "cv.imshow(\"result\", img_color)\n",
    "\n",
    "cv.waitKey(0)\n",
    "\n",
    "\n",
    "for cnt in contours:\n",
    "\n",
    "    epsilon = 0.02 * cv.arcLength(cnt, True)\n",
    "    approx = cv.approxPolyDP(cnt, epsilon, True)\n",
    "    print( len(approx))\n",
    "\n",
    "    cv.drawContours(img_color,[approx],0,(0,255,255),5)\n",
    "\n",
    "\n",
    "cv.imshow(\"result\", img_color)\n",
    "\n",
    "cv.waitKey(0)"
   ]
  },
  {
   "cell_type": "code",
   "execution_count": 7,
   "metadata": {},
   "outputs": [],
   "source": [
    "filename = '(190621).jpg'\n",
    "img = cv.imread(filename)\n",
    "\n",
    "img_final = cv.imread(filename)\n",
    "img2gray = cv.cvtColor(img, cv.COLOR_BGR2GRAY)\n",
    "ret, mask = cv.threshold(img2gray, 20,255,cv.THRESH_BINARY)\n",
    "image_final = cv.bitwise_and(img2gray, img2gray, mask=mask)\n",
    "ret, new_img = cv.threshold(image_final, 20,255,cv.THRESH_BINARY)\n",
    "'''\n",
    "    5-8 : 이미지 노이즈 제거\n",
    "'''\n",
    "kernel = cv.getStructuringElement(cv.MORPH_CROSS,(3,3))\n",
    "\n",
    "dilated = cv.dilate(new_img, kernel, iterations=1)\n",
    "# cv.imshow('dilated', dilated)\n",
    "# cv.waitKey()"
   ]
  },
  {
   "cell_type": "code",
   "execution_count": 8,
   "metadata": {},
   "outputs": [],
   "source": [
    "# 경계점 찾아서 반환\n",
    "contours, hierarchy = cv.findContours(dilated, cv.RETR_LIST, cv.CHAIN_APPROX_NONE)\n",
    "# "
   ]
  },
  {
   "cell_type": "code",
   "execution_count": 9,
   "metadata": {},
   "outputs": [],
   "source": [
    "for contour in contours:\n",
    "        # get rectangle bounding contour\n",
    "        [x, y, w, h] = cv.boundingRect(contour)\n",
    "\n",
    "        # Don't plot small false positives that aren't text\n",
    "        if w < 35 and h < 35:\n",
    "            continue\n",
    "\n",
    "        # draw rectangle around contour on original image\n",
    "        cv.rectangle(img, (x, y), (x + w, y + h), (255, 0, 255), 2)"
   ]
  },
  {
   "cell_type": "code",
   "execution_count": 10,
   "metadata": {
    "scrolled": true
   },
   "outputs": [
    {
     "data": {
      "text/plain": [
       "-1"
      ]
     },
     "execution_count": 10,
     "metadata": {},
     "output_type": "execute_result"
    }
   ],
   "source": [
    "cv.imshow('captcha_result', img)\n",
    "cv.waitKey()"
   ]
  },
  {
   "cell_type": "code",
   "execution_count": null,
   "metadata": {},
   "outputs": [],
   "source": [
    "# img_path = '(190621).jpg'\n",
    "# img = cv.imread(img_path)\n",
    "# cv.imshow('image',img)\n",
    "# cv.waitKey(0)\n",
    "# cv.destroyAllWindows()"
   ]
  },
  {
   "cell_type": "code",
   "execution_count": 11,
   "metadata": {},
   "outputs": [
    {
     "data": {
      "text/plain": [
       "True"
      ]
     },
     "execution_count": 11,
     "metadata": {},
     "output_type": "execute_result"
    }
   ],
   "source": [
    "cv.imwrite('C:\\\\Labor\\\\test.jpg', img)"
   ]
  }
 ],
 "metadata": {
  "kernelspec": {
   "display_name": "Python 3",
   "language": "python",
   "name": "python3"
  },
  "language_info": {
   "codemirror_mode": {
    "name": "ipython",
    "version": 3
   },
   "file_extension": ".py",
   "mimetype": "text/x-python",
   "name": "python",
   "nbconvert_exporter": "python",
   "pygments_lexer": "ipython3",
   "version": "3.7.8"
  }
 },
 "nbformat": 4,
 "nbformat_minor": 2
}
